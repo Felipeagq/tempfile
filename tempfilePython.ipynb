{
 "metadata": {
  "language_info": {
   "codemirror_mode": {
    "name": "ipython",
    "version": 3
   },
   "file_extension": ".py",
   "mimetype": "text/x-python",
   "name": "python",
   "nbconvert_exporter": "python",
   "pygments_lexer": "ipython3",
   "version": "3.8.5"
  },
  "orig_nbformat": 2,
  "kernelspec": {
   "name": "python385jvsc74a57bd031f2aee4e71d21fbe5cf8b01ff0e069b9275f58929596ceb00d14d90e3e16cd6",
   "display_name": "Python 3.8.5 64-bit"
  },
  "metadata": {
   "interpreter": {
    "hash": "31f2aee4e71d21fbe5cf8b01ff0e069b9275f58929596ceb00d14d90e3e16cd6"
   }
  }
 },
 "nbformat": 4,
 "nbformat_minor": 2,
 "cells": [
  {
   "cell_type": "code",
   "execution_count": 1,
   "metadata": {},
   "outputs": [],
   "source": [
    "import tempfile"
   ]
  },
  {
   "cell_type": "code",
   "execution_count": 2,
   "metadata": {},
   "outputs": [
    {
     "output_type": "stream",
     "name": "stdout",
     "text": [
      "<_io.BufferedRandom name=42>\n<class '_io.BufferedRandom'>\n42\nb'archivos temporales\\ncon Python'\n"
     ]
    }
   ],
   "source": [
    "# El siguiente ejemplo muestra cómo crear un archivo temporal con la función TemporaryFile(), en modo binario:\n",
    "\n",
    "# Crea un archivo temporal en modo binario\n",
    "temporal1 = tempfile.TemporaryFile()\n",
    "\n",
    "# Muestra información del objeto creado\n",
    "print(temporal1)  # _io .bufferedrandom=\"\" name=\"4\"\n",
    "print(type(temporal1))  # class io.bufferedrandom=\"\"\n",
    "print('nombre :',temporal1.name)  # identificador del archivo, 4\n",
    "\n",
    "# Escribe en el fichero temporal\n",
    "temporal1.write(b'archivos temporales\\ncon Python')\n",
    "\n",
    "# Sitúa el puntero al comienzo del archivo\n",
    "temporal1.seek(0)\n",
    "\n",
    "# Lee archivo temporal desde su comienzo\n",
    "lectura1 = temporal1.read()\n",
    "\n",
    "# Muestra la información leída\n",
    "print(lectura1)\n",
    "\n",
    "# Cierra y elimina el archivo temporal \n",
    "temporal1.close()"
   ]
  },
  {
   "cell_type": "code",
   "execution_count": 4,
   "metadata": {},
   "outputs": [
    {
     "output_type": "stream",
     "name": "stdout",
     "text": [
      "nombre:  42\nLinea 1\nLinea 2\nLinea 3\n"
     ]
    }
   ],
   "source": [
    "# En el ejemplo que sigue se muestra cómo crear un archivo temporal en modo texto, con la posibilidad de capturar los errores que pudieran producirse al acceder al sistema de archivos:\n",
    "\n",
    "import tempfile\n",
    "\n",
    "# Crea un archivo temporal en modo texto\n",
    "temporal2 = tempfile.TemporaryFile(mode='w+t')\n",
    "print('nombre: ',temporal2.name)  # identificador del archivo, 4\n",
    "\n",
    "# Captura posibles errores de acceso al sistema de archvios\n",
    "try:\n",
    "    # Escribe tres líneas en el archivo temporal   \n",
    "    temporal2.writelines(['Linea 1\\n', 'Linea 2\\n', 'Linea 3\\n'])  \n",
    "\n",
    "    # Sitúa el puntero al comienzo del archivo\n",
    "    temporal2.seek(0)\n",
    "    \n",
    "    # Lee y muestra todas las líneas del archivo temporal\n",
    "    for linea in temporal2:\n",
    "        print(linea.rstrip())\n",
    "\n",
    "finally:\n",
    "    # Cierra y elimina el archivo temporal\n",
    "    temporal2.close()"
   ]
  },
  {
   "cell_type": "code",
   "execution_count": null,
   "metadata": {},
   "outputs": [],
   "source": []
  }
 ]
}