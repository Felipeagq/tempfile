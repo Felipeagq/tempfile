{
 "metadata": {
  "language_info": {
   "codemirror_mode": {
    "name": "ipython",
    "version": 3
   },
   "file_extension": ".py",
   "mimetype": "text/x-python",
   "name": "python",
   "nbconvert_exporter": "python",
   "pygments_lexer": "ipython3",
   "version": "3.8.5"
  },
  "orig_nbformat": 2,
  "kernelspec": {
   "name": "python385jvsc74a57bd031f2aee4e71d21fbe5cf8b01ff0e069b9275f58929596ceb00d14d90e3e16cd6",
   "display_name": "Python 3.8.5 64-bit"
  },
  "metadata": {
   "interpreter": {
    "hash": "31f2aee4e71d21fbe5cf8b01ff0e069b9275f58929596ceb00d14d90e3e16cd6"
   }
  }
 },
 "nbformat": 4,
 "nbformat_minor": 2,
 "cells": [
  {
   "source": [
    "- TemporaryFile(). Crea archivo temporal (sin nombre).\n",
    "- NamedTemporaryFile(). Crea archivo temporal (con nombre).\n",
    "- SpooledTemporaryFile(). Crea archivo estableciendo tamaño máximo del búfer de memoria.\n",
    "- TemporaryDirectory(). Crea directorio temporal.\n",
    "- mkstemp(). Crea archivo temporal sin borrado desatendido.\n",
    "- mkdtemp(). Crea directorio temporal sin borrado desatendido.\n",
    "- gettempdir()/gettempdirb(). Obtiene directorio temporal.\n",
    "- gettempprefix()/gettempprefixb(). Obtiene prefijos de nombres.\n",
    "- La variable tempdir"
   ],
   "cell_type": "markdown",
   "metadata": {}
  },
  {
   "cell_type": "code",
   "execution_count": 1,
   "metadata": {},
   "outputs": [],
   "source": [
    "import tempfile"
   ]
  },
  {
   "source": [
    "# TemporaryFile(). Crea archivo temporal (sin nombre)\n",
    "\n",
    "La función TemporaryFile() crea un archivo temporal de forma segura y devuelve un objeto (sin nombre) para ser utilizado como espacio de almacenamiento temporal y será suprimido tan pronto como sea cerrado.\n",
    "\n",
    "tempfile.TemporaryFile(mode='w+b', buffering=None, encoding=None, newline=None, suffix=None, prefix=None, dir=None)\n",
    "\n",
    "Por defecto, la apertura del archivo temporal es \"w+b\" (lectura/escritura en modo binario) para un procesamiento consistente entre distintos sistemas operativos, aunque también es frecuente el modo \"w+t\" (lectura/escritura para textos).\n",
    "\n",
    "Los argumentos suffix y prefix, si se usan, se corresponden con la cadena de sufijo y/o de prefijo que se empleará en la construcción de los nombres de los archivos temporales. El argumento dir se utiliza para especificar un directorio para ubicar los archivos y en caso de que no se especifique ninguno se utilizará el directorio temporal del sistema, que suele ser el recomendado.\n",
    "\n",
    "En cuanto a los argumentos buffering, encoding y newline, tienen el mismo uso que con la función open(). Son para establecer la política de almacenamiento en el búfer, especificar un nombre de codificación de caracteres y fijar cómo será el salto de líneas en los archivos creados en modo texto."
   ],
   "cell_type": "markdown",
   "metadata": {}
  },
  {
   "cell_type": "code",
   "execution_count": 5,
   "metadata": {},
   "outputs": [
    {
     "output_type": "stream",
     "name": "stdout",
     "text": [
      "<_io.BufferedRandom name=42>\n<class '_io.BufferedRandom'>\nnombre : 42\nb'archivos temporales\\ncon Python'\n"
     ]
    }
   ],
   "source": [
    "# El siguiente ejemplo muestra cómo crear un archivo temporal con la función TemporaryFile(), en modo binario:\n",
    "\n",
    "# Crea un archivo temporal en modo binario\n",
    "temporal1 = tempfile.TemporaryFile()\n",
    "\n",
    "# Muestra información del objeto creado\n",
    "print(temporal1)  # _io .bufferedrandom=\"\" name=\"4\"\n",
    "print(type(temporal1))  # class io.bufferedrandom=\"\"\n",
    "print('nombre :',temporal1.name)  # identificador del archivo, 4\n",
    "\n",
    "# Escribe en el fichero temporal\n",
    "temporal1.write(b'archivos temporales\\ncon Python')\n",
    "\n",
    "# Sitúa el puntero al comienzo del archivo\n",
    "temporal1.seek(0)\n",
    "\n",
    "# Lee archivo temporal desde su comienzo\n",
    "lectura1 = temporal1.read()\n",
    "\n",
    "# Muestra la información leída\n",
    "print(lectura1)\n",
    "\n",
    "# Cierra y elimina el archivo temporal \n",
    "temporal1.close()"
   ]
  },
  {
   "cell_type": "code",
   "execution_count": 6,
   "metadata": {},
   "outputs": [
    {
     "output_type": "stream",
     "name": "stdout",
     "text": [
      "nombre:  42\nLinea 1\nLinea 2\nLinea 3\n"
     ]
    }
   ],
   "source": [
    "# En el ejemplo que sigue se muestra cómo crear un archivo temporal en modo texto, con la posibilidad de capturar los errores que pudieran producirse al acceder al sistema de archivos:\n",
    "\n",
    "import tempfile\n",
    "\n",
    "# Crea un archivo temporal en modo texto\n",
    "temporal2 = tempfile.TemporaryFile(mode='w+t')\n",
    "print('nombre: ',temporal2.name)  # identificador del archivo, 4\n",
    "\n",
    "# Captura posibles errores de acceso al sistema de archvios\n",
    "try:\n",
    "    # Escribe tres líneas en el archivo temporal   \n",
    "    temporal2.writelines(['Linea 1\\n', 'Linea 2\\n', 'Linea 3\\n'])  \n",
    "\n",
    "    # Sitúa el puntero al comienzo del archivo\n",
    "    temporal2.seek(0)\n",
    "    \n",
    "    # Lee y muestra todas las líneas del archivo temporal\n",
    "    for linea in temporal2:\n",
    "        print(linea.rstrip())\n",
    "\n",
    "finally:\n",
    "    # Cierra y elimina el archivo temporal\n",
    "    temporal2.close()"
   ]
  },
  {
   "source": [
    "# NamedTemporaryFile(). Crea archivo temporal (con nombre)\n",
    "\n",
    "La función NamedTemporaryFile() crea un archivo temporal al que asignará un nombre construido automáticamente, teniendo en cuenta en el caso de que se hayan utilizado, los argumentos suffix y prefix.\n",
    "\n",
    "tempfile.NamedTemporaryFile(mode='w+b', buffering=None, encoding=None, newline=None, suffix=None, prefix=None, dir=None, delete=True)\n",
    "\n",
    "Hay situaciones en las que es conveniente utilizar esta función que da nombre a los archivos temporales, como por ejemplo, cuando la información de estos archivos es utilizada por varios procesos diferentes. En ese caso la mejor referencia a utilizar será el propio nombre del archivo temporal para poder abrirlo, que puede obtenerse mediante el atributo name. Los archivos igualmente serán suprimidos cuando sean cerrados, excepto si al argumento delete se le asigna el valor False.\n",
    "\n",
    "En cuanto a lo demás, esta función actúa exactamente igual que TemporaryFile()."
   ],
   "cell_type": "markdown",
   "metadata": {}
  },
  {
   "cell_type": "code",
   "execution_count": 8,
   "metadata": {},
   "outputs": [
    {
     "output_type": "stream",
     "name": "stdout",
     "text": [
      "<tempfile._TemporaryFileWrapper object at 0x7f160737e430> /tmp/tmp_35vqxg0\nEl archivo temporal existe\nEl archivo temporal ya no existe\n"
     ]
    }
   ],
   "source": [
    "import os, tempfile\n",
    "\n",
    "# Crea archivo temporal\n",
    "temporal3 = tempfile.NamedTemporaryFile()\n",
    "\n",
    "# Muestra nombre y ruta del archivo temporal creado\n",
    "print(temporal3, temporal3.name)\n",
    "\n",
    "# Escribe en el archivo temporal\n",
    "temporal3.write(b'Temporal')\n",
    "\n",
    "# Comprueba si existe el archivo temporal\n",
    "if os.path.exists(temporal3.name):\n",
    "    print(\"El archivo temporal existe\")\n",
    "\n",
    "# Cierra y suprime el archivo temporal\n",
    "temporal3.close()\n",
    "\n",
    "# Comprueba si se ha borrado el archivo temporal\n",
    "if not os.path.exists(temporal3.name):\n",
    "    print(\"El archivo temporal ya no existe\")"
   ]
  },
  {
   "source": [
    "# SpooledTemporaryFile(). Crea archivo estableciendo tamaño máximo del búfer de memoria\n",
    "\n",
    "La función SpooledTemporaryFile() se utiliza para crear archivos temporales con un matiz que lo diferencia de la función TemporaryFile(). Incorpora el argumento max_size para establecer el tamaño máximo de memoria que se usará para almacenar el archivo temporal.\n",
    "\n",
    "Cuando el límite de max_size sea superado, o bien, cuando sea llamado el metodo fileno() los datos pasarán a escribirse directamente al disco.\n",
    "\n",
    "tempfile.SpooledTemporaryFile(max_size=0, mode='w+b', buffering=None, encoding=None, newline=None, suffix=None, prefix=None, dir=None)\n",
    "\n",
    "El siguiente ejemplo crea archivo temporal limitando la memoria a 1024 bytes:"
   ],
   "cell_type": "markdown",
   "metadata": {}
  },
  {
   "cell_type": "code",
   "execution_count": 9,
   "metadata": {},
   "outputs": [
    {
     "output_type": "stream",
     "name": "stdout",
     "text": [
      "**************************************************\n**************************************************\n**************************************************\n**************************************************\n**************************************************\n**************************************************\n**************************************************\n**************************************************\n**************************************************\n**************************************************\n**************************************************\n**************************************************\n**************************************************\n**************************************************\n**************************************************\n**************************************************\n**************************************************\n**************************************************\n**************************************************\n**************************************************\n\nNone\n1020\n"
     ]
    }
   ],
   "source": [
    "# Crea archivo temporal fijando búfer en 1024 bytes\n",
    "temporal4 = tempfile.SpooledTemporaryFile(max_size=1024)\n",
    "\n",
    "# Escribe en el fichero temporal\n",
    "for ciclo in range(0,20):\n",
    "    temporal4.write((b\"*\" * 50) + b\"\\n\")\n",
    "\n",
    "# Sitúa el puntero al comienzo del archivo temporal\n",
    "temporal4.seek(0)\n",
    "\n",
    "# Lee el archivo temporal\n",
    "lectura4 = temporal4.read()\n",
    "\n",
    "# Convierte la cadena leida de byte a string con codificación utf-8\n",
    "print(lectura4.decode(\"utf-8\"))\n",
    "\n",
    "# Muesta idenfiticador del archivo cuando supere el límite de\n",
    "# max_size. En caso contrario, el valor devuelto será None porque\n",
    "# el archivo sólo se alojará en la memoria. Para probar otros resultados\n",
    "# modificar el valor de max_size, por ejemplo, reduciéndolo\n",
    "print(temporal4.name)\n",
    "\n",
    "# Muestra la longitud de la cadena leída\n",
    "print(len(lectura4))\n",
    "\n",
    "# Cierra y elimina el archivo temporal \n",
    "temporal4.close()"
   ]
  },
  {
   "source": [
    "# TemporaryDirectory(). Crea directorio temporal\n",
    "\n",
    "La función TemporaryDirectory() crea un directorio temporal cuyo nombre puede ser recuperado accediendo al valor del atributo name. El objeto resultante se puede utilizar como un gestor de contexto que termina suprimiendo el directorio y todo su contenido.\n",
    "\n",
    "En el siguiente ejemplo se crea un directorio temporal utilizando la declaración \"with ... as\" como gestor de contexto:"
   ],
   "cell_type": "markdown",
   "metadata": {}
  },
  {
   "cell_type": "code",
   "execution_count": 11,
   "metadata": {},
   "outputs": [
    {
     "output_type": "stream",
     "name": "stdout",
     "text": [
      "Directorio temporal /tmp/tmpjpm0cz4q\n"
     ]
    }
   ],
   "source": [
    "# Crea directorio temporal con gestor de contexto\n",
    "with tempfile.TemporaryDirectory() as dirtemporal6:\n",
    "    print('Directorio temporal', dirtemporal6)\n",
    "# Al finalizar, tanto directorio como contenido se borran"
   ]
  },
  {
   "cell_type": "code",
   "execution_count": null,
   "metadata": {},
   "outputs": [],
   "source": [
    "#A continuación, un ejemplo en el que se une la creación de un directorio \n",
    "#temporal con un archivo temporal y que finaliza con la supresión de ambos:\n",
    "\n",
    "# Crea directorio temporal\n",
    "tempdir7 = tempfile.TemporaryDirectory()\n",
    "\n",
    "# Crea archivo temporal en el directorio anterior\n",
    "temporal7 = tempfile.NamedTemporaryFile(dir=tempdir7.name)\n",
    "\n",
    "# Muestra nombres de directorio y archivo temporales\n",
    "print('Directorio temporal:', tempdir7.name)\n",
    "print('Archivo temporal...:', temporal7.name)\n",
    "\n",
    "# Escribe en el archivo\n",
    "for ciclo in range(0,50000):\n",
    "    temporal7.write(b\"=\" * 20)\n",
    "\n",
    "# Borra archivo temporal\n",
    "del temporal7\n",
    "\n",
    "# Borra directorio temporal\n",
    "del tempdir7"
   ]
  },
  {
   "source": [
    "# mkstemp(). Crea archivo temporal sin borrado desatendido\n",
    "\n",
    "La función mkstemp() crea con seguridad un archivo temporal en la que la operación de borrado queda a elección del usuario.\n",
    "\n",
    "tempfile.mkstemp(suffix=None, prefix=None, dir=None, text=False)\n",
    "\n",
    "Devuelve una tupla que contiene un identificador (como el que devuelve la función os.open()) y la ruta de acceso absoluta al archivo temporal.\n",
    "\n",
    "A partir de Python 3.5 los argumentos suffix, prefix y dir pueden expresarse como bytes.\n",
    "\n",
    "En el siguiente ejemplo se crea un archivo temporal que es borrado \"manualmente\" con el método os.remove()."
   ],
   "cell_type": "markdown",
   "metadata": {}
  },
  {
   "cell_type": "code",
   "execution_count": 12,
   "metadata": {},
   "outputs": [
    {
     "output_type": "stream",
     "name": "stdout",
     "text": [
      "idenfificador: 42\narchivo: /tmp/TempDirAppa2gt1_70\nEl archivo /tmp/TempDirAppa2gt1_70 ha sido borrado\n\n"
     ]
    }
   ],
   "source": [
    "import os, tempfile\n",
    "\n",
    "id8, archivotemp8 = tempfile.mkstemp(prefix=\"TempDirApp\", text=True)\n",
    "\n",
    "print(\"idenfificador:\", id8)\n",
    "print(\"archivo:\", archivotemp8)\n",
    "os.remove(archivotemp8)\n",
    "if not os.path.exists(archivotemp8):\n",
    "    print(\"El archivo {} ha sido borrado\\n\".format(archivotemp8))"
   ]
  },
  {
   "source": [
    "# mkdtemp(). Crea directorio temporal sin borrado desatendido\n",
    "\n",
    "La función mkdtemp() crea con seguridad un directorio temporal en la que la operación de borrado no es desatendida. El usuario, cuando lo desee, tendrá que realizarla \"manualmente\".\n",
    "\n",
    "tempfile.mkdtemp(suffix=None, prefix=None, dir=None)\n",
    "\n",
    "La función mkdtemp() devuelve la ruta absoluta del directorio temporal\n",
    "\n",
    "A partir de Python 3.5 los argumentos suffix, prefix y dir pueden expresarse como bytes.\n",
    "\n",
    "A continuación, un ejemplo de uso de la función mkdtemp():"
   ],
   "cell_type": "markdown",
   "metadata": {}
  },
  {
   "cell_type": "code",
   "execution_count": 13,
   "metadata": {},
   "outputs": [
    {
     "output_type": "stream",
     "name": "stdout",
     "text": [
      "/tmp/Apliceif2usql\nDirectorio suprimido\n"
     ]
    }
   ],
   "source": [
    "import os, tempfile\n",
    "\n",
    "# Crea directorio temporal con el prefijo 'Aplic'\n",
    "tempdir9 = tempfile.mkdtemp(prefix='Aplic')\n",
    "\n",
    "# Muestra directorio creado\n",
    "print(tempdir9) \n",
    "\n",
    "# Borra directorio tempora si existe\n",
    "if os.path.exists(tempdir9):\n",
    "    os.rmdir(tempdir9)\n",
    "    print('Directorio suprimido')"
   ]
  },
  {
   "source": [
    "# gettempdir()/gettempdirb(). Obtiene directorio temporal\n",
    "\n",
    "Las funciones gettempdir() y gettempdirb() devuelven la ruta del directorio temporal del sistema (/tmp, c:\\temp, etc.). La primera función la devuelve en formato str y la segunda expresada como bytes.\n"
   ],
   "cell_type": "markdown",
   "metadata": {}
  },
  {
   "cell_type": "code",
   "execution_count": 14,
   "metadata": {},
   "outputs": [
    {
     "output_type": "stream",
     "name": "stdout",
     "text": [
      "Dir temporal del sistema /tmp\nDir temporal (en bytes) b'/tmp'\n"
     ]
    }
   ],
   "source": [
    "print(\"Dir temporal del sistema\", tempfile.gettempdir())\n",
    "print(\"Dir temporal (en bytes)\", tempfile.gettempdirb())  # Python +3.5"
   ]
  },
  {
   "source": [
    "# gettempprefix()/gettempprefixb(). Obtiene prefijos de nombres\n",
    "\n",
    "Las funciones gettempprefix() y gettempprefixb() devuelven los prefijos que se aplican a los nombres de los archivos temporales, en el momento de su creación. La primera función la devuelve como str y la segunda como bytes."
   ],
   "cell_type": "markdown",
   "metadata": {}
  },
  {
   "cell_type": "code",
   "execution_count": 15,
   "metadata": {},
   "outputs": [
    {
     "output_type": "stream",
     "name": "stdout",
     "text": [
      "Prefijo tmp\nPrefijo (en bytes) b'tmp'\n"
     ]
    }
   ],
   "source": [
    "print(\"Prefijo\", tempfile.gettempprefix())\n",
    "print(\"Prefijo (en bytes)\", tempfile.gettempprefixb())  # Python +3.5"
   ]
  },
  {
   "source": [
    "# La variable tempdir\n",
    "\n",
    "La variable global tempdir almacena el directorio temporal predeterminado del sistema, que es el mismo que devuelven las funciones gettempdir() y gettempdirb(). Este directorio puede cambiarse asignándose una nueva ruta a dicha variable, aunque no se recomienda.\n",
    "\n",
    "En el supuesto de que se modifique la ruta, será la que se utilice en todas las funciones de este modulo como predeterminada para el argumento dir.\n"
   ],
   "cell_type": "markdown",
   "metadata": {}
  },
  {
   "cell_type": "code",
   "execution_count": 16,
   "metadata": {},
   "outputs": [
    {
     "output_type": "stream",
     "name": "stdout",
     "text": [
      "Directorio temporal /home/usuario/temp\nDirectorio temporal /home/usuario/temp\n"
     ]
    }
   ],
   "source": [
    "tempfile.tempdir = '/home/usuario/temp'\n",
    "print(\"Directorio temporal\", tempfile.gettempdir())\n",
    "print(\"Directorio temporal\", tempfile.tempdir)"
   ]
  },
  {
   "cell_type": "code",
   "execution_count": null,
   "metadata": {},
   "outputs": [],
   "source": []
  }
 ]
}